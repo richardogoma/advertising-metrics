{
    "metadata": {
        "kernelspec": {
            "name": "SQL",
            "display_name": "SQL",
            "language": "sql"
        },
        "language_info": {
            "name": "sql",
            "version": ""
        }
    },
    "nbformat_minor": 2,
    "nbformat": 4,
    "cells": [
        {
            "cell_type": "markdown",
            "source": [
                "**1\\. In which country, game, and for which advertiser, did we have the highest IPM? Why can't we trust this number fully?**"
            ],
            "metadata": {
                "azdata_cell_guid": "649b536d-d8ba-492f-b72c-c1024ed2511c"
            },
            "attachments": {}
        },
        {
            "cell_type": "code",
            "source": [
                "SELECT TOP 5 [country]\r\n",
                "      ,[game_app]\r\n",
                "      ,[advertiser]\r\n",
                "      ,(CAST(SUM(CASE WHEN [install]=1 THEN 1 ELSE 0 END) AS FLOAT) / COUNT(*) * 1000) AS IPM\r\n",
                "      ,SUM(CASE WHEN [install]=1 THEN 1 ELSE 0 END) AS TotalInstalls\r\n",
                "      , COUNT(*) AS TotalViews\r\n",
                "  FROM [DataCleaningProjects].[dbo].[user_ad_views]\r\n",
                "  GROUP BY [country]\r\n",
                "      ,[game_app]\r\n",
                "      ,[advertiser]\r\n",
                "ORDER BY 4 DESC\r\n",
                ""
            ],
            "metadata": {
                "azdata_cell_guid": "ca02bf94-ecc8-4531-9cfe-debeca4eac36",
                "language": "sql"
            },
            "outputs": [],
            "execution_count": null
        },
        {
            "cell_type": "markdown",
            "source": [
                "We had the highest IPM with advertiser 'ndREtPhnDnoOsdsWYyvu', game app, 'eVy14GUauNxRgry1jzQD' in the US with an Install per mille of 322.58. This is not a reliable figure because the sample size is small, or the ad hasn't run for a longer period. Adverts for this particular game app has only 31 views so far."
            ],
            "metadata": {
                "language": "sql",
                "azdata_cell_guid": "72d5c537-dc08-43c3-a24e-e3bf40eaac09"
            },
            "attachments": {}
        },
        {
            "cell_type": "markdown",
            "source": [
                "**2\\. Median and average CPI and IPM over a sliding window of** \n",
                "\n",
                "- **500 views (the window slides on every view)**"
            ],
            "metadata": {
                "language": "sql",
                "azdata_cell_guid": "6d70e2b6-9b1a-48ec-980e-7cd06e0a4e82"
            },
            "attachments": {}
        },
        {
            "cell_type": "code",
            "source": [
                "WITH NumberedRows AS (\r\n",
                "    SELECT\r\n",
                "        v.[country], \r\n",
                "        v.[game_app], \r\n",
                "        a.[cpi],\r\n",
                "        SUM(CASE WHEN v.[install]=1 THEN 1 ELSE 0 END) OVER (PARTITION BY v.[country], v.[game_app], v.[advertiser]) AS TotalInstalls,\r\n",
                "        COUNT(*) OVER (PARTITION BY v.[country], v.[game_app], v.[advertiser]) AS TotalViews,\r\n",
                "        ROW_NUMBER() OVER (PARTITION BY v.[country], v.[game_app] ORDER BY v.[createdat]) AS rn\r\n",
                "    FROM [DataCleaningProjects].[dbo].[user_ad_views] v\r\n",
                "    JOIN [DataCleaningProjects].[dbo].[advertisers_info] a\r\n",
                "        ON v.country = a.country AND v.advertiser = a.advertiser\r\n",
                "),\r\n",
                "GroupedRows AS (\r\n",
                "    SELECT\r\n",
                "        [country],\r\n",
                "        [game_app],\r\n",
                "        [cpi],\r\n",
                "        (CAST(TotalInstalls AS FLOAT) / TotalViews * 1000) AS ipm,\r\n",
                "        rn,\r\n",
                "        (ROW_NUMBER() OVER (PARTITION BY [country], [game_app] ORDER BY rn) - 1) / 500 + 1 AS group_number\r\n",
                "    FROM NumberedRows\r\n",
                "), \r\n",
                "Calculations AS (\r\n",
                "    SELECT\r\n",
                "        [country],\r\n",
                "        [game_app],\r\n",
                "        [cpi],\r\n",
                "        ipm,\r\n",
                "        AVG([cpi]) OVER (PARTITION BY country, game_app, group_number) AS avg_cpi_500_views,\r\n",
                "        PERCENTILE_CONT(0.5) WITHIN GROUP (ORDER BY cpi ASC) over(PARTITION BY country, game_app, group_number) as median_cpi_500_views,\r\n",
                "        AVG([ipm]) OVER (PARTITION BY country, game_app, group_number) AS avg_ipm_500_views,\r\n",
                "        PERCENTILE_CONT(0.5) WITHIN GROUP (ORDER BY ipm ASC) over(PARTITION BY country, game_app, group_number) as median_ipm_500_views\r\n",
                "    FROM GroupedRows\r\n",
                ")\r\n",
                "SELECT DISTINCT\r\n",
                "    [country], [game_app], avg_cpi_500_views, median_cpi_500_views, avg_ipm_500_views, median_ipm_500_views\r\n",
                "FROM Calculations\r\n",
                "ORDER BY [country], [game_app];"
            ],
            "metadata": {
                "language": "sql",
                "azdata_cell_guid": "1abadaa5-ccd1-4dbd-9edd-98e2698281c2"
            },
            "outputs": [],
            "execution_count": null
        },
        {
            "cell_type": "markdown",
            "source": [
                "**2\\. Median and average CPI and IPM over a sliding window of**\n",
                "\n",
                "- **1 day (the window slides every hour)**"
            ],
            "metadata": {
                "language": "sql",
                "azdata_cell_guid": "c7cb0183-e36f-4ab4-a11c-4c446cb70f06"
            },
            "attachments": {}
        },
        {
            "cell_type": "code",
            "source": [
                "WITH NumberedRows AS (\r\n",
                "    SELECT\r\n",
                "        v.[country], \r\n",
                "        v.[game_app], \r\n",
                "        a.[cpi],\r\n",
                "        SUM(CASE WHEN v.[install]=1 THEN 1 ELSE 0 END) OVER (PARTITION BY v.[country], v.[game_app], v.[advertiser]) AS TotalInstalls,\r\n",
                "        COUNT(*) OVER (PARTITION BY v.[country], v.[game_app], v.[advertiser]) AS TotalViews,\r\n",
                "        v.[createdat],\r\n",
                "        ROW_NUMBER() OVER (PARTITION BY v.[country], v.[game_app] ORDER BY v.[createdat]) AS rn\r\n",
                "    FROM [DataCleaningProjects].[dbo].[user_ad_views] v\r\n",
                "    JOIN [DataCleaningProjects].[dbo].[advertisers_info] a\r\n",
                "        ON v.country = a.country AND v.advertiser = a.advertiser\r\n",
                "),\r\n",
                "HourlyWindows AS (\r\n",
                "    SELECT\r\n",
                "        [country],\r\n",
                "        [game_app],\r\n",
                "        [cpi],\r\n",
                "        (CAST(TotalInstalls AS FLOAT) / TotalViews * 1000) AS ipm,\r\n",
                "        rn,\r\n",
                "        v.[createdat],\r\n",
                "        v.[createdat] - (v.[createdat] % 3600) AS window_start  -- Truncate UNIX timestamp to the nearest hour\r\n",
                "    FROM NumberedRows v\r\n",
                "), \r\n",
                "SlidingWindowCalculations AS (\r\n",
                "    SELECT\r\n",
                "        hw.[country],\r\n",
                "        hw.[game_app],\r\n",
                "        hw.[createdat],\r\n",
                "        hw.[cpi],\r\n",
                "        hw.[ipm],\r\n",
                "        AVG(hw.[cpi]) OVER (PARTITION BY hw.[country], hw.[game_app], hw.[window_start]) AS avg_cpi_1day,\r\n",
                "        PERCENTILE_CONT(0.5) WITHIN GROUP (ORDER BY hw.[cpi] ASC) over(PARTITION BY hw.[country], hw.[game_app], hw.[window_start]) as median_cpi_1day,\r\n",
                "        AVG(hw.[ipm]) OVER (PARTITION BY hw.[country], hw.[game_app], hw.[window_start]) AS avg_ipm_1day,\r\n",
                "        PERCENTILE_CONT(0.5) WITHIN GROUP (ORDER BY hw.[ipm] ASC) over(PARTITION BY hw.[country], hw.[game_app], hw.[window_start]) as median_ipm_1day\r\n",
                "    FROM HourlyWindows hw\r\n",
                "    WHERE hw.[createdat] >= hw.[window_start] - 86400  -- Consider records within the last 24 hours (86400 seconds)\r\n",
                ")\r\n",
                "SELECT DISTINCT\r\n",
                "    [country], [game_app], [createdat]\r\n",
                "        , DATEADD(second, [createdat], '1970-01-01') AS createdat_h\r\n",
                "        , avg_cpi_1day, median_cpi_1day, avg_ipm_1day, median_ipm_1day\r\n",
                "FROM SlidingWindowCalculations\r\n",
                "ORDER BY [country], [game_app], [createdat];\r\n",
                ""
            ],
            "metadata": {
                "language": "sql",
                "azdata_cell_guid": "ac5766ad-92d3-499d-b987-2a26b28afc48"
            },
            "outputs": [],
            "execution_count": null
        }
    ]
}